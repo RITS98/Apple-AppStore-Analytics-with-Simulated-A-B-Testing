{
 "cells": [
  {
   "cell_type": "markdown",
   "id": "843bfe5b",
   "metadata": {},
   "source": [
    "# A/B Testing Analysis with Superset\n",
    "\n",
    "This notebook provides SQL queries and chart configurations for analyzing the A/B testing simulation data in Apache Superset.\n",
    "\n",
    "## Generated Test Data Overview\n",
    "\n",
    "We've created 4 different A/B tests with the following scenarios:\n",
    "\n",
    "1. **App Icon Design Test**: Control vs Minimalist vs Colorful icons\n",
    "2. **App Description Length Test**: Short vs Detailed descriptions\n",
    "3. **Pricing Strategy Test**: Free vs Freemium vs Paid\n",
    "4. **Screenshot Count Test**: 3 vs 5 screenshots\n",
    "\n",
    "**Data Generated**: 15,000 user sessions over 45 days"
   ]
  },
  {
   "cell_type": "markdown",
   "id": "ce3049cf",
   "metadata": {},
   "source": [
    "## Database Tables Created\n",
    "\n",
    "### 1. `ab_test_sessions` (Main data table)\n",
    "Contains detailed user session data with:\n",
    "- User demographics (age_group, device_type, country)\n",
    "- App information (app_name, app_genre)\n",
    "- Test variant assignments\n",
    "- Behavioral metrics (time_spent, converted, rating)\n",
    "\n",
    "### 2. `ab_test_variants` (Test definitions)\n",
    "Contains test variant definitions and descriptions\n",
    "\n",
    "### 3. `ab_test_summary` (Pre-aggregated results)\n",
    "Contains aggregated conversion rates and metrics by variant"
   ]
  },
  {
   "cell_type": "markdown",
   "id": "73d17176",
   "metadata": {},
   "source": [
    "## Setting up Superset\n",
    "\n",
    "### Step 1: Access Superset\n",
    "1. Open your browser and go to: http://localhost:8088\n",
    "2. Login with:\n",
    "   - Username: `admin`\n",
    "   - Password: `admin`\n",
    "\n",
    "### Step 2: Add Database Connection\n",
    "1. Go to **Settings** → **Database Connections**\n",
    "2. Click **+ Database**\n",
    "3. Select **PostgreSQL**\n",
    "4. Use these connection details:\n",
    "   ```\n",
    "   Host: db (internal Docker network)\n",
    "   Port: 5432\n",
    "   Database: analytics_db\n",
    "   Username: postgres\n",
    "   Password: postgres\n",
    "   ```\n",
    "5. Test connection and save"
   ]
  },
  {
   "cell_type": "markdown",
   "id": "b983964c",
   "metadata": {},
   "source": [
    "## Recommended Charts for Superset\n",
    "\n",
    "### Chart 1: A/B Test Conversion Rates Comparison\n",
    "**Chart Type**: Bar Chart\n",
    "**Table**: ab_test_summary"
   ]
  },
  {
   "cell_type": "code",
   "execution_count": null,
   "id": "2e2435c3",
   "metadata": {},
   "outputs": [],
   "source": [
    "-- SQL Query for Conversion Rates Comparison\n",
    "SELECT \n",
    "    test_name,\n",
    "    variant_key,\n",
    "    total_users,\n",
    "    conversions,\n",
    "    ROUND(conversion_rate * 100, 2) as conversion_rate_percent\n",
    "FROM ab_test_summary\n",
    "ORDER BY test_name, conversion_rate DESC;"
   ]
  },
  {
   "cell_type": "markdown",
   "id": "0bfd6b4d",
   "metadata": {},
   "source": [
    "**Chart Configuration**:\n",
    "- **X-axis**: test_name + variant_key (concatenated)\n",
    "- **Y-axis**: conversion_rate_percent\n",
    "- **Color**: test_name\n",
    "- **Sort**: By conversion_rate DESC"
   ]
  },
  {
   "cell_type": "markdown",
   "id": "5599ac5a",
   "metadata": {},
   "source": [
    "### Chart 2: Daily Conversion Trends\n",
    "**Chart Type**: Line Chart\n",
    "**Table**: ab_test_sessions"
   ]
  },
  {
   "cell_type": "code",
   "execution_count": null,
   "id": "587eac70",
   "metadata": {},
   "outputs": [],
   "source": [
    "-- SQL Query for Daily Conversion Trends\n",
    "SELECT \n",
    "    DATE(session_date) as session_day,\n",
    "    icon_design_variant,\n",
    "    COUNT(*) as total_sessions,\n",
    "    SUM(CASE WHEN converted THEN 1 ELSE 0 END) as conversions,\n",
    "    ROUND(AVG(CASE WHEN converted THEN 1.0 ELSE 0.0 END) * 100, 2) as conversion_rate\n",
    "FROM ab_test_sessions\n",
    "GROUP BY DATE(session_date), icon_design_variant\n",
    "ORDER BY session_day, icon_design_variant;"
   ]
  },
  {
   "cell_type": "markdown",
   "id": "5bb9e56c",
   "metadata": {},
   "source": [
    "**Chart Configuration**:\n",
    "- **X-axis**: session_day\n",
    "- **Y-axis**: conversion_rate\n",
    "- **Series**: icon_design_variant\n",
    "- **Time Grain**: Day"
   ]
  },
  {
   "cell_type": "markdown",
   "id": "50ccd2f6",
   "metadata": {},
   "source": [
    "### Chart 3: Conversion Rate by Demographics\n",
    "**Chart Type**: Heatmap\n",
    "**Table**: ab_test_sessions"
   ]
  },
  {
   "cell_type": "code",
   "execution_count": null,
   "id": "2c6494eb",
   "metadata": {},
   "outputs": [],
   "source": [
    "-- SQL Query for Demographics Heatmap\n",
    "SELECT \n",
    "    age_group,\n",
    "    device_type,\n",
    "    COUNT(*) as total_users,\n",
    "    ROUND(AVG(CASE WHEN converted THEN 1.0 ELSE 0.0 END) * 100, 1) as conversion_rate\n",
    "FROM ab_test_sessions\n",
    "GROUP BY age_group, device_type\n",
    "HAVING COUNT(*) > 50\n",
    "ORDER BY age_group, device_type;"
   ]
  },
  {
   "cell_type": "markdown",
   "id": "39174bbb",
   "metadata": {},
   "source": [
    "**Chart Configuration**:\n",
    "- **X-axis**: device_type\n",
    "- **Y-axis**: age_group\n",
    "- **Metric**: conversion_rate\n",
    "- **Color Scheme**: Red-Yellow-Blue"
   ]
  },
  {
   "cell_type": "markdown",
   "id": "d1c71367",
   "metadata": {},
   "source": [
    "### Chart 4: Time Spent Analysis by Variant\n",
    "**Chart Type**: Box Plot\n",
    "**Table**: ab_test_sessions"
   ]
  },
  {
   "cell_type": "code",
   "execution_count": null,
   "id": "626fb283",
   "metadata": {},
   "outputs": [],
   "source": [
    "-- SQL Query for Time Spent Analysis\n",
    "SELECT \n",
    "    description_variant,\n",
    "    screenshots_variant,\n",
    "    time_spent_seconds,\n",
    "    converted\n",
    "FROM ab_test_sessions\n",
    "WHERE time_spent_seconds BETWEEN 5 AND 300  -- Filter outliers\n",
    "ORDER BY description_variant, screenshots_variant;"
   ]
  },
  {
   "cell_type": "markdown",
   "id": "4f97b068",
   "metadata": {},
   "source": [
    "**Chart Configuration**:\n",
    "- **X-axis**: description_variant + screenshots_variant\n",
    "- **Y-axis**: time_spent_seconds\n",
    "- **Series**: converted (True/False)"
   ]
  },
  {
   "cell_type": "markdown",
   "id": "24f8f9b2",
   "metadata": {},
   "source": [
    "### Chart 5: Geographic Performance\n",
    "**Chart Type**: World Map or Bar Chart\n",
    "**Table**: ab_test_sessions"
   ]
  },
  {
   "cell_type": "code",
   "execution_count": null,
   "id": "c3cff636",
   "metadata": {},
   "outputs": [],
   "source": [
    "-- SQL Query for Geographic Analysis\n",
    "SELECT \n",
    "    country,\n",
    "    pricing_variant,\n",
    "    COUNT(*) as total_users,\n",
    "    SUM(CASE WHEN converted THEN 1 ELSE 0 END) as conversions,\n",
    "    ROUND(AVG(CASE WHEN converted THEN 1.0 ELSE 0.0 END) * 100, 2) as conversion_rate,\n",
    "    ROUND(AVG(time_spent_seconds), 1) as avg_time_spent\n",
    "FROM ab_test_sessions\n",
    "GROUP BY country, pricing_variant\n",
    "HAVING COUNT(*) > 20\n",
    "ORDER BY country, conversion_rate DESC;"
   ]
  },
  {
   "cell_type": "markdown",
   "id": "9c34a171",
   "metadata": {},
   "source": [
    "**Chart Configuration**:\n",
    "- **X-axis**: country\n",
    "- **Y-axis**: conversion_rate\n",
    "- **Series**: pricing_variant\n",
    "- **Secondary Y-axis**: avg_time_spent"
   ]
  },
  {
   "cell_type": "markdown",
   "id": "a281f20e",
   "metadata": {},
   "source": [
    "### Chart 6: App Genre Performance\n",
    "**Chart Type**: Treemap\n",
    "**Table**: ab_test_sessions"
   ]
  },
  {
   "cell_type": "code",
   "execution_count": null,
   "id": "80fdd582",
   "metadata": {},
   "outputs": [],
   "source": [
    "-- SQL Query for App Genre Analysis\n",
    "SELECT \n",
    "    app_genre,\n",
    "    icon_design_variant,\n",
    "    COUNT(*) as total_sessions,\n",
    "    ROUND(AVG(CASE WHEN converted THEN 1.0 ELSE 0.0 END) * 100, 2) as conversion_rate,\n",
    "    ROUND(AVG(CASE WHEN rating IS NOT NULL THEN rating ELSE NULL END), 2) as avg_rating\n",
    "FROM ab_test_sessions\n",
    "GROUP BY app_genre, icon_design_variant\n",
    "HAVING COUNT(*) > 30\n",
    "ORDER BY app_genre, conversion_rate DESC;"
   ]
  },
  {
   "cell_type": "markdown",
   "id": "5f0de579",
   "metadata": {},
   "source": [
    "**Chart Configuration**:\n",
    "- **Primary Dimension**: app_genre\n",
    "- **Secondary Dimension**: icon_design_variant\n",
    "- **Size Metric**: total_sessions\n",
    "- **Color Metric**: conversion_rate"
   ]
  },
  {
   "cell_type": "markdown",
   "id": "064ee0f2",
   "metadata": {},
   "source": [
    "### Chart 7: Statistical Significance Test\n",
    "**Chart Type**: Table\n",
    "**Table**: Custom Query"
   ]
  },
  {
   "cell_type": "code",
   "execution_count": null,
   "id": "02f7eed1",
   "metadata": {},
   "outputs": [],
   "source": [
    "-- SQL Query for Statistical Significance Analysis\n",
    "WITH test_stats AS (\n",
    "    SELECT \n",
    "        'Icon Design Test' as test_name,\n",
    "        icon_design_variant as variant,\n",
    "        COUNT(*) as sample_size,\n",
    "        SUM(CASE WHEN converted THEN 1 ELSE 0 END) as conversions,\n",
    "        AVG(CASE WHEN converted THEN 1.0 ELSE 0.0 END) as conversion_rate\n",
    "    FROM ab_test_sessions\n",
    "    GROUP BY icon_design_variant\n",
    "    \n",
    "    UNION ALL\n",
    "    \n",
    "    SELECT \n",
    "        'Description Test' as test_name,\n",
    "        description_variant as variant,\n",
    "        COUNT(*) as sample_size,\n",
    "        SUM(CASE WHEN converted THEN 1 ELSE 0 END) as conversions,\n",
    "        AVG(CASE WHEN converted THEN 1.0 ELSE 0.0 END) as conversion_rate\n",
    "    FROM ab_test_sessions\n",
    "    GROUP BY description_variant\n",
    "    \n",
    "    UNION ALL\n",
    "    \n",
    "    SELECT \n",
    "        'Pricing Test' as test_name,\n",
    "        pricing_variant as variant,\n",
    "        COUNT(*) as sample_size,\n",
    "        SUM(CASE WHEN converted THEN 1 ELSE 0 END) as conversions,\n",
    "        AVG(CASE WHEN converted THEN 1.0 ELSE 0.0 END) as conversion_rate\n",
    "    FROM ab_test_sessions\n",
    "    GROUP BY pricing_variant\n",
    ")\n",
    "SELECT \n",
    "    test_name,\n",
    "    variant,\n",
    "    sample_size,\n",
    "    conversions,\n",
    "    ROUND(conversion_rate * 100, 2) as conversion_rate_percent,\n",
    "    CASE \n",
    "        WHEN sample_size > 1000 AND conversion_rate > 0.05 THEN 'Statistically Significant'\n",
    "        WHEN sample_size > 500 THEN 'Moderate Significance'\n",
    "        ELSE 'Insufficient Data'\n",
    "    END as significance_level\n",
    "FROM test_stats\n",
    "ORDER BY test_name, conversion_rate DESC;"
   ]
  },
  {
   "cell_type": "markdown",
   "id": "45ea258b",
   "metadata": {},
   "source": [
    "## Dashboard Creation Guide\n",
    "\n",
    "### Step 1: Create Individual Charts\n",
    "1. Go to **Charts** in Superset\n",
    "2. Click **+ Chart**\n",
    "3. Select your PostgreSQL database connection\n",
    "4. Choose the appropriate table\n",
    "5. Copy and paste the SQL queries above\n",
    "6. Configure chart settings as described\n",
    "7. Save each chart with descriptive names\n",
    "\n",
    "### Step 2: Create Dashboard\n",
    "1. Go to **Dashboards**\n",
    "2. Click **+ Dashboard**\n",
    "3. Name it \"A/B Testing Analysis Dashboard\"\n",
    "4. Add all your created charts\n",
    "5. Arrange them in a logical layout\n",
    "\n",
    "### Step 3: Add Filters\n",
    "Add dashboard-level filters for:\n",
    "- Date range (session_date)\n",
    "- App genre\n",
    "- Country\n",
    "- Device type\n",
    "- Age group"
   ]
  },
  {
   "cell_type": "markdown",
   "id": "f42fc6e3",
   "metadata": {},
   "source": [
    "## Key Insights to Look For\n",
    "\n",
    "Based on the simulation, you should expect to see:\n",
    "\n",
    "1. **Icon Design Test**: Colorful icons (variant_b) should perform best\n",
    "2. **Description Test**: Detailed descriptions (variant_a) should have higher conversion\n",
    "3. **Pricing Test**: Free apps (control) should have highest conversion rates\n",
    "4. **Screenshots Test**: More screenshots (variant_a) should perform slightly better\n",
    "\n",
    "### Additional Analysis Questions:\n",
    "- Which age groups respond best to different variants?\n",
    "- Do conversion patterns vary by device type?\n",
    "- Are there geographic differences in variant performance?\n",
    "- How does time spent correlate with conversion likelihood?\n",
    "- Do different app genres respond differently to the same variants?"
   ]
  },
  {
   "cell_type": "markdown",
   "id": "e08e0dc8",
   "metadata": {},
   "source": [
    "## Next Steps\n",
    "\n",
    "1. **Create the charts in Superset** using the SQL queries above\n",
    "2. **Build the dashboard** with all charts arranged logically\n",
    "3. **Add interactivity** with filters and drill-down capabilities\n",
    "4. **Share insights** with stakeholders\n",
    "5. **Iterate and improve** based on findings\n",
    "\n",
    "Remember: This is simulated data, but the analysis techniques and chart types are exactly what you'd use for real A/B testing data!"
   ]
  }
 ],
 "metadata": {
  "language_info": {
   "name": "python"
  }
 },
 "nbformat": 4,
 "nbformat_minor": 5
}
